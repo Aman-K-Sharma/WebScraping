{
  "nbformat": 4,
  "nbformat_minor": 0,
  "metadata": {
    "colab": {
      "name": "WebScrappipng",
      "provenance": [],
      "authorship_tag": "ABX9TyMKMVaMrPOw9Pt+5rnI3quU",
      "include_colab_link": true
    },
    "kernelspec": {
      "name": "python3",
      "display_name": "Python 3"
    },
    "language_info": {
      "name": "python"
    }
  },
  "cells": [
    {
      "cell_type": "markdown",
      "metadata": {
        "id": "view-in-github",
        "colab_type": "text"
      },
      "source": [
        "<a href=\"https://colab.research.google.com/github/Aman-K-Sharma/WebScraping/blob/main/WebScrappipng.ipynb\" target=\"_parent\"><img src=\"https://colab.research.google.com/assets/colab-badge.svg\" alt=\"Open In Colab\"/></a>"
      ]
    },
    {
      "cell_type": "code",
      "metadata": {
        "id": "XcpSk9rFfJks",
        "colab": {
          "base_uri": "https://localhost:8080/"
        },
        "outputId": "58528de3-b265-4c21-b8be-865c68d32abd"
      },
      "source": [
        "!pip install autoscraper"
      ],
      "execution_count": 2,
      "outputs": [
        {
          "output_type": "stream",
          "name": "stdout",
          "text": [
            "Collecting autoscraper\n",
            "  Downloading autoscraper-1.1.12-py3-none-any.whl (10 kB)\n",
            "Requirement already satisfied: lxml in /usr/local/lib/python3.7/dist-packages (from autoscraper) (4.6.3)\n",
            "Requirement already satisfied: bs4 in /usr/local/lib/python3.7/dist-packages (from autoscraper) (0.0.1)\n",
            "Requirement already satisfied: requests in /usr/local/lib/python3.7/dist-packages (from autoscraper) (2.23.0)\n",
            "Requirement already satisfied: beautifulsoup4 in /usr/local/lib/python3.7/dist-packages (from bs4->autoscraper) (4.6.3)\n",
            "Requirement already satisfied: urllib3!=1.25.0,!=1.25.1,<1.26,>=1.21.1 in /usr/local/lib/python3.7/dist-packages (from requests->autoscraper) (1.24.3)\n",
            "Requirement already satisfied: certifi>=2017.4.17 in /usr/local/lib/python3.7/dist-packages (from requests->autoscraper) (2021.5.30)\n",
            "Requirement already satisfied: chardet<4,>=3.0.2 in /usr/local/lib/python3.7/dist-packages (from requests->autoscraper) (3.0.4)\n",
            "Requirement already satisfied: idna<3,>=2.5 in /usr/local/lib/python3.7/dist-packages (from requests->autoscraper) (2.10)\n",
            "Installing collected packages: autoscraper\n",
            "Successfully installed autoscraper-1.1.12\n"
          ]
        }
      ]
    },
    {
      "cell_type": "code",
      "metadata": {
        "id": "XRGhRMJVKFWt"
      },
      "source": [
        "from autoscraper import AutoScraper"
      ],
      "execution_count": 3,
      "outputs": []
    },
    {
      "cell_type": "code",
      "metadata": {
        "id": "i2qEXkvGKSUF"
      },
      "source": [
        "flipkart_url='https://www.flipkart.com/mobiles/mi~brand/pr?sid=tyy,4io'\n",
        "wanted_list=['₹9,390','Redmi 9 (Sporty Orange, 64 GB)']"
      ],
      "execution_count": 22,
      "outputs": []
    },
    {
      "cell_type": "code",
      "metadata": {
        "id": "JhE8yNp-LYLd"
      },
      "source": [
        "scraper=AutoScraper()\n",
        "result=scraper.build(flipkart_url,wanted_list)"
      ],
      "execution_count": 23,
      "outputs": []
    },
    {
      "cell_type": "code",
      "metadata": {
        "colab": {
          "base_uri": "https://localhost:8080/"
        },
        "id": "3Q2ahe-nLhRl",
        "outputId": "4cdc80f1-9d9e-4a36-8e84-5f952dc206ea"
      },
      "source": [
        "print(result)"
      ],
      "execution_count": 24,
      "outputs": [
        {
          "output_type": "stream",
          "name": "stdout",
          "text": [
            "['₹8,299', '₹8,988', '₹7,499', '₹10,999', '₹9,390', '₹10,399', '₹9,988', '₹7,895', '₹8,295', '₹7,999', '₹8,289', '₹8,344', '₹8,339', '₹8,440', '₹8,590', '₹8,060', '₹8,190', '₹23,999', '₹26,932', '₹30,999', '₹16,990', 'Redmi 8A Dual (Sky White, 32 GB)', 'Redmi 7 (Eclipse Black, 32 GB)', 'Redmi 6A (Black, 16 GB)', 'Redmi Y2 (Rose Gold, 64 GB)', 'Redmi 9 (Sporty Orange, 64 GB)', 'Redmi 9 (Sky Blue, 64 GB)', 'Redmi 9 (Carbon Black, 64 GB)', 'Redmi 9A (SeaBlue, 32 GB)', 'Redmi 9A (Midnight Black, 32 GB)', 'Redmi 9A (Nature Green, 32 GB)', 'Redmi 9A (Sea Blue, 32 GB)', 'Redmi 9A Sport (Carbon Black, 32 GB)', 'Redmi 9A Sport (Coral Green, 32 GB)', 'Redmi 9A Sport (Metallic Blue, 32 GB)', 'Redmi 8 (Sapphire Blue, 64 GB)', 'Mi 11 Lite (Jazz Blue, 128 GB)', 'Mi 11 Lite (Vinyl Black, 128 GB)', 'Xiaomi 11Lite NE (Vinyl Black, 128 GB)', 'Xiaomi 11Lite NE (Diamond Dazzle, 128 GB)', 'Redmi Note 9 Pro (Champagne Gold, 128 GB)', 'Redmi 8 (Emerald Green, 64 GB)']\n"
          ]
        }
      ]
    },
    {
      "cell_type": "code",
      "metadata": {
        "colab": {
          "base_uri": "https://localhost:8080/"
        },
        "id": "Fl-nxDwqLlso",
        "outputId": "69816385-462c-4db5-f7c5-1146323b7d96"
      },
      "source": [
        "scraper.get_result_similar(flipkart_url,grouped=True)"
      ],
      "execution_count": 25,
      "outputs": [
        {
          "output_type": "execute_result",
          "data": {
            "text/plain": [
              "{'rule_8o3n': ['Redmi 9 (Sky Blue, 64 GB)',\n",
              "  'Redmi 9 (Sporty Orange, 64 GB)',\n",
              "  'Redmi 9 (Carbon Black, 64 GB)',\n",
              "  'Redmi 8A Dual (Sky White, 32 GB)',\n",
              "  'Redmi 9A (SeaBlue, 32 GB)',\n",
              "  'Redmi 9A (Midnight Black, 32 GB)',\n",
              "  'Redmi 9A (Nature Green, 32 GB)',\n",
              "  'Redmi 9A (Nature Green, 32 GB)',\n",
              "  'Redmi 9A (Sea Blue, 32 GB)',\n",
              "  'Redmi 9A Sport (Carbon Black, 32 GB)',\n",
              "  'Redmi 9A Sport (Coral Green, 32 GB)',\n",
              "  'Redmi 9A Sport (Metallic Blue, 32 GB)',\n",
              "  'Redmi 8 (Sapphire Blue, 64 GB)',\n",
              "  'Redmi 9A (Midnight Black, 32 GB)',\n",
              "  'Redmi 9A Sport (Carbon Black, 32 GB)',\n",
              "  'Redmi Y2 (Rose Gold, 64 GB)',\n",
              "  'Mi 11 Lite (Jazz Blue, 128 GB)',\n",
              "  'Mi 11 Lite (Vinyl Black, 128 GB)',\n",
              "  'Redmi 7 (Eclipse Black, 32 GB)',\n",
              "  'Xiaomi 11Lite NE (Vinyl Black, 128 GB)',\n",
              "  'Xiaomi 11Lite NE (Diamond Dazzle, 128 GB)',\n",
              "  'Redmi Note 9 Pro (Champagne Gold, 128 GB)',\n",
              "  'Redmi 8 (Emerald Green, 64 GB)',\n",
              "  'Redmi 6A (Black, 16 GB)'],\n",
              " 'rule_iv08': ['₹8,299', '₹8,988', '₹7,499', '₹10,999', '₹9,390'],\n",
              " 'rule_o4uo': ['Redmi 9 (Sky Blue, 64 GB)',\n",
              "  'Redmi 9 (Sporty Orange, 64 GB)',\n",
              "  'Redmi 9 (Carbon Black, 64 GB)',\n",
              "  'Redmi 8A Dual (Sky White, 32 GB)',\n",
              "  'Redmi 9A (SeaBlue, 32 GB)',\n",
              "  'Redmi 9A (Midnight Black, 32 GB)',\n",
              "  'Redmi 9A (Nature Green, 32 GB)',\n",
              "  'Redmi 9A (Nature Green, 32 GB)',\n",
              "  'Redmi 9A (Sea Blue, 32 GB)',\n",
              "  'Redmi 9A Sport (Carbon Black, 32 GB)',\n",
              "  'Redmi 9A Sport (Coral Green, 32 GB)',\n",
              "  'Redmi 9A Sport (Metallic Blue, 32 GB)',\n",
              "  'Redmi 8 (Sapphire Blue, 64 GB)',\n",
              "  'Redmi 9A (Midnight Black, 32 GB)',\n",
              "  'Redmi 9A Sport (Carbon Black, 32 GB)',\n",
              "  'Redmi Y2 (Rose Gold, 64 GB)',\n",
              "  'Mi 11 Lite (Jazz Blue, 128 GB)',\n",
              "  'Mi 11 Lite (Vinyl Black, 128 GB)',\n",
              "  'Redmi 7 (Eclipse Black, 32 GB)',\n",
              "  'Xiaomi 11Lite NE (Vinyl Black, 128 GB)',\n",
              "  'Xiaomi 11Lite NE (Diamond Dazzle, 128 GB)',\n",
              "  'Redmi Note 9 Pro (Champagne Gold, 128 GB)',\n",
              "  'Redmi 8 (Emerald Green, 64 GB)',\n",
              "  'Redmi 6A (Black, 16 GB)'],\n",
              " 'rule_rb73': ['₹10,399',\n",
              "  '₹9,390',\n",
              "  '₹9,988',\n",
              "  '₹8,299',\n",
              "  '₹7,895',\n",
              "  '₹8,295',\n",
              "  '₹7,999',\n",
              "  '₹8,289',\n",
              "  '₹8,344',\n",
              "  '₹8,339',\n",
              "  '₹8,440',\n",
              "  '₹8,590',\n",
              "  '₹10,999',\n",
              "  '₹8,060',\n",
              "  '₹8,190',\n",
              "  '₹10,999',\n",
              "  '₹23,999',\n",
              "  '₹23,999',\n",
              "  '₹8,988',\n",
              "  '₹26,932',\n",
              "  '₹30,999',\n",
              "  '₹16,990',\n",
              "  '₹10,999',\n",
              "  '₹7,499'],\n",
              " 'rule_udlr': ['Redmi 8A Dual (Sky White, 32 GB)',\n",
              "  'Redmi 7 (Eclipse Black, 32 GB)',\n",
              "  'Redmi 6A (Black, 16 GB)',\n",
              "  'Redmi Y2 (Rose Gold, 64 GB)',\n",
              "  'Redmi 9 (Sporty Orange, 64 GB)']}"
            ]
          },
          "metadata": {},
          "execution_count": 25
        }
      ]
    },
    {
      "cell_type": "code",
      "metadata": {
        "id": "P3NheT2zL9df"
      },
      "source": [
        "scraper.set_rule_aliases({'rule_8o3n':'Title','rule_rb73':'Price'})\n",
        "scraper.keep_rules(['rule_8o3n','rule_rb73'])\n",
        "scraper.save('flipkart_search')"
      ],
      "execution_count": 26,
      "outputs": []
    },
    {
      "cell_type": "code",
      "metadata": {
        "colab": {
          "base_uri": "https://localhost:8080/"
        },
        "id": "jr-QbEB6M7Cp",
        "outputId": "f8774fb6-ff43-4889-c987-b0c35031e8bc"
      },
      "source": [
        "results=scraper.get_result_similar('https://www.flipkart.com/mobiles/pr?sid=tyy%2C4io&p%5B%5D=facets.brand%255B%255D%3Drealme',group_by_alias=True)\n",
        "results['Title']"
      ],
      "execution_count": 27,
      "outputs": [
        {
          "output_type": "execute_result",
          "data": {
            "text/plain": [
              "['realme C21Y (Cross Black, 32 GB)',\n",
              " 'realme C21Y (Cross Black, 64 GB)',\n",
              " 'realme C21Y (Cross Blue, 64 GB)',\n",
              " 'realme C21Y (Cross Blue, 32 GB)',\n",
              " 'realme C11 2021 (Cool Blue, 32 GB)',\n",
              " 'realme C11 2021 (Cool Grey, 32 GB)',\n",
              " 'realme C11 2021 (Cool Blue, 64 GB)',\n",
              " 'realme Narzo 50A (Oxygen Blue, 128 GB)',\n",
              " 'realme Narzo 50A (Oxygen Blue, 64 GB)',\n",
              " 'realme Narzo 50A (Oxygen Green, 64 GB)',\n",
              " 'realme C11 2021 (Cool Grey, 64 GB)',\n",
              " 'realme Narzo 50A (Oxygen Green, 128 GB)',\n",
              " 'realme C25Y (Metal Grey, 128 GB)',\n",
              " 'realme C25Y (Glacier Blue, 128 GB)',\n",
              " 'realme 8s 5G (Universe Purple, 128 GB)',\n",
              " 'realme 8s 5G (Universe Blue, 128 GB)',\n",
              " 'realme 8 (Cyber Silver, 128 GB)',\n",
              " 'realme Narzo 30 (Racing Blue, 64 GB)',\n",
              " 'realme Narzo 30 (Racing Silver, 64 GB)',\n",
              " 'realme Narzo 50i (Mint Green, 32 GB)',\n",
              " 'realme Narzo 50i (Mint Green, 64 GB)',\n",
              " 'realme Narzo 50i (Carbon Black, 32 GB)',\n",
              " 'realme 8s 5G (Universe Purple, 128 GB)',\n",
              " 'realme 8s 5G (Universe Blue, 128 GB)']"
            ]
          },
          "metadata": {},
          "execution_count": 27
        }
      ]
    },
    {
      "cell_type": "code",
      "metadata": {
        "colab": {
          "base_uri": "https://localhost:8080/",
          "height": 802
        },
        "id": "hrZjh9EbNw02",
        "outputId": "d48712a3-1246-4c56-b0ae-349b3fb71ef6"
      },
      "source": [
        "import pandas as pd\n",
        "scrapped=pd.DataFrame(results)\n",
        "scrapped"
      ],
      "execution_count": 28,
      "outputs": [
        {
          "output_type": "execute_result",
          "data": {
            "text/html": [
              "<div>\n",
              "<style scoped>\n",
              "    .dataframe tbody tr th:only-of-type {\n",
              "        vertical-align: middle;\n",
              "    }\n",
              "\n",
              "    .dataframe tbody tr th {\n",
              "        vertical-align: top;\n",
              "    }\n",
              "\n",
              "    .dataframe thead th {\n",
              "        text-align: right;\n",
              "    }\n",
              "</style>\n",
              "<table border=\"1\" class=\"dataframe\">\n",
              "  <thead>\n",
              "    <tr style=\"text-align: right;\">\n",
              "      <th></th>\n",
              "      <th>Price</th>\n",
              "      <th>Title</th>\n",
              "    </tr>\n",
              "  </thead>\n",
              "  <tbody>\n",
              "    <tr>\n",
              "      <th>0</th>\n",
              "      <td>₹8,999</td>\n",
              "      <td>realme C21Y (Cross Black, 32 GB)</td>\n",
              "    </tr>\n",
              "    <tr>\n",
              "      <th>1</th>\n",
              "      <td>₹9,999</td>\n",
              "      <td>realme C21Y (Cross Black, 64 GB)</td>\n",
              "    </tr>\n",
              "    <tr>\n",
              "      <th>2</th>\n",
              "      <td>₹9,999</td>\n",
              "      <td>realme C21Y (Cross Blue, 64 GB)</td>\n",
              "    </tr>\n",
              "    <tr>\n",
              "      <th>3</th>\n",
              "      <td>₹8,999</td>\n",
              "      <td>realme C21Y (Cross Blue, 32 GB)</td>\n",
              "    </tr>\n",
              "    <tr>\n",
              "      <th>4</th>\n",
              "      <td>₹7,299</td>\n",
              "      <td>realme C11 2021 (Cool Blue, 32 GB)</td>\n",
              "    </tr>\n",
              "    <tr>\n",
              "      <th>5</th>\n",
              "      <td>₹7,299</td>\n",
              "      <td>realme C11 2021 (Cool Grey, 32 GB)</td>\n",
              "    </tr>\n",
              "    <tr>\n",
              "      <th>6</th>\n",
              "      <td>₹8,799</td>\n",
              "      <td>realme C11 2021 (Cool Blue, 64 GB)</td>\n",
              "    </tr>\n",
              "    <tr>\n",
              "      <th>7</th>\n",
              "      <td>₹12,499</td>\n",
              "      <td>realme Narzo 50A (Oxygen Blue, 128 GB)</td>\n",
              "    </tr>\n",
              "    <tr>\n",
              "      <th>8</th>\n",
              "      <td>₹11,499</td>\n",
              "      <td>realme Narzo 50A (Oxygen Blue, 64 GB)</td>\n",
              "    </tr>\n",
              "    <tr>\n",
              "      <th>9</th>\n",
              "      <td>₹11,499</td>\n",
              "      <td>realme Narzo 50A (Oxygen Green, 64 GB)</td>\n",
              "    </tr>\n",
              "    <tr>\n",
              "      <th>10</th>\n",
              "      <td>₹8,799</td>\n",
              "      <td>realme C11 2021 (Cool Grey, 64 GB)</td>\n",
              "    </tr>\n",
              "    <tr>\n",
              "      <th>11</th>\n",
              "      <td>₹12,499</td>\n",
              "      <td>realme Narzo 50A (Oxygen Green, 128 GB)</td>\n",
              "    </tr>\n",
              "    <tr>\n",
              "      <th>12</th>\n",
              "      <td>₹11,999</td>\n",
              "      <td>realme C25Y (Metal Grey, 128 GB)</td>\n",
              "    </tr>\n",
              "    <tr>\n",
              "      <th>13</th>\n",
              "      <td>₹11,999</td>\n",
              "      <td>realme C25Y (Glacier Blue, 128 GB)</td>\n",
              "    </tr>\n",
              "    <tr>\n",
              "      <th>14</th>\n",
              "      <td>₹17,999</td>\n",
              "      <td>realme 8s 5G (Universe Purple, 128 GB)</td>\n",
              "    </tr>\n",
              "    <tr>\n",
              "      <th>15</th>\n",
              "      <td>₹17,999</td>\n",
              "      <td>realme 8s 5G (Universe Blue, 128 GB)</td>\n",
              "    </tr>\n",
              "    <tr>\n",
              "      <th>16</th>\n",
              "      <td>₹17,999</td>\n",
              "      <td>realme 8 (Cyber Silver, 128 GB)</td>\n",
              "    </tr>\n",
              "    <tr>\n",
              "      <th>17</th>\n",
              "      <td>₹14,499</td>\n",
              "      <td>realme Narzo 30 (Racing Blue, 64 GB)</td>\n",
              "    </tr>\n",
              "    <tr>\n",
              "      <th>18</th>\n",
              "      <td>₹14,499</td>\n",
              "      <td>realme Narzo 30 (Racing Silver, 64 GB)</td>\n",
              "    </tr>\n",
              "    <tr>\n",
              "      <th>19</th>\n",
              "      <td>₹7,499</td>\n",
              "      <td>realme Narzo 50i (Mint Green, 32 GB)</td>\n",
              "    </tr>\n",
              "    <tr>\n",
              "      <th>20</th>\n",
              "      <td>₹8,999</td>\n",
              "      <td>realme Narzo 50i (Mint Green, 64 GB)</td>\n",
              "    </tr>\n",
              "    <tr>\n",
              "      <th>21</th>\n",
              "      <td>₹7,499</td>\n",
              "      <td>realme Narzo 50i (Carbon Black, 32 GB)</td>\n",
              "    </tr>\n",
              "    <tr>\n",
              "      <th>22</th>\n",
              "      <td>₹19,999</td>\n",
              "      <td>realme 8s 5G (Universe Purple, 128 GB)</td>\n",
              "    </tr>\n",
              "    <tr>\n",
              "      <th>23</th>\n",
              "      <td>₹19,999</td>\n",
              "      <td>realme 8s 5G (Universe Blue, 128 GB)</td>\n",
              "    </tr>\n",
              "  </tbody>\n",
              "</table>\n",
              "</div>"
            ],
            "text/plain": [
              "      Price                                    Title\n",
              "0    ₹8,999         realme C21Y (Cross Black, 32 GB)\n",
              "1    ₹9,999         realme C21Y (Cross Black, 64 GB)\n",
              "2    ₹9,999          realme C21Y (Cross Blue, 64 GB)\n",
              "3    ₹8,999          realme C21Y (Cross Blue, 32 GB)\n",
              "4    ₹7,299       realme C11 2021 (Cool Blue, 32 GB)\n",
              "5    ₹7,299       realme C11 2021 (Cool Grey, 32 GB)\n",
              "6    ₹8,799       realme C11 2021 (Cool Blue, 64 GB)\n",
              "7   ₹12,499   realme Narzo 50A (Oxygen Blue, 128 GB)\n",
              "8   ₹11,499    realme Narzo 50A (Oxygen Blue, 64 GB)\n",
              "9   ₹11,499   realme Narzo 50A (Oxygen Green, 64 GB)\n",
              "10   ₹8,799       realme C11 2021 (Cool Grey, 64 GB)\n",
              "11  ₹12,499  realme Narzo 50A (Oxygen Green, 128 GB)\n",
              "12  ₹11,999         realme C25Y (Metal Grey, 128 GB)\n",
              "13  ₹11,999       realme C25Y (Glacier Blue, 128 GB)\n",
              "14  ₹17,999   realme 8s 5G (Universe Purple, 128 GB)\n",
              "15  ₹17,999     realme 8s 5G (Universe Blue, 128 GB)\n",
              "16  ₹17,999          realme 8 (Cyber Silver, 128 GB)\n",
              "17  ₹14,499     realme Narzo 30 (Racing Blue, 64 GB)\n",
              "18  ₹14,499   realme Narzo 30 (Racing Silver, 64 GB)\n",
              "19   ₹7,499     realme Narzo 50i (Mint Green, 32 GB)\n",
              "20   ₹8,999     realme Narzo 50i (Mint Green, 64 GB)\n",
              "21   ₹7,499   realme Narzo 50i (Carbon Black, 32 GB)\n",
              "22  ₹19,999   realme 8s 5G (Universe Purple, 128 GB)\n",
              "23  ₹19,999     realme 8s 5G (Universe Blue, 128 GB)"
            ]
          },
          "metadata": {},
          "execution_count": 28
        }
      ]
    },
    {
      "cell_type": "code",
      "metadata": {
        "id": "5aMJ9HCBTi60"
      },
      "source": [
        ""
      ],
      "execution_count": null,
      "outputs": []
    }
  ]
}